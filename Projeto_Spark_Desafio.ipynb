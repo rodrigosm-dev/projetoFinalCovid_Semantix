{
 "cells": [
  {
   "cell_type": "markdown",
   "metadata": {},
   "source": [
    "# Questão 1"
   ]
  },
  {
   "cell_type": "code",
   "execution_count": null,
   "metadata": {},
   "outputs": [],
   "source": [
    "# Processo de copiar os dados do projeto para uma pasta do container spark\n",
    "# docker cp /home/rbl/Treinamento/docker-Spark/spark/input/Dados_Covid/ jupyter-spark:/home"
   ]
  },
  {
   "cell_type": "code",
   "execution_count": 12,
   "metadata": {},
   "outputs": [],
   "source": [
    "# Criado uma pasta para Projeto\n",
    "\n",
    "!hdfs dfs -mkdir -p /user/projeto/spark/covid19"
   ]
  },
  {
   "cell_type": "code",
   "execution_count": 13,
   "metadata": {},
   "outputs": [
    {
     "name": "stdout",
     "output_type": "stream",
     "text": [
      "Found 2 items\r\n",
      "drwxr-xr-x   - root supergroup          0 2021-07-08 17:56 /user/projeto/spark/Dados_Covid\r\n",
      "drwxr-xr-x   - root supergroup          0 2021-07-11 15:33 /user/projeto/spark/covid19\r\n"
     ]
    }
   ],
   "source": [
    "#  Validação da criação da pasta\n",
    "\n",
    "!hdfs dfs -ls /user/projeto/spark/"
   ]
  },
  {
   "cell_type": "code",
   "execution_count": 14,
   "metadata": {},
   "outputs": [
    {
     "name": "stdout",
     "output_type": "stream",
     "text": [
      "put: `/user/projeto/spark/Dados_Covid/HIST_PAINEL_COVIDBR_2020_Parte1_06jul2021.csv': File exists\r\n",
      "put: `/user/projeto/spark/Dados_Covid/HIST_PAINEL_COVIDBR_2020_Parte2_06jul2021.csv': File exists\r\n",
      "put: `/user/projeto/spark/Dados_Covid/HIST_PAINEL_COVIDBR_2021_Parte1_06jul2021.csv': File exists\r\n",
      "put: `/user/projeto/spark/Dados_Covid/HIST_PAINEL_COVIDBR_2021_Parte2_06jul2021.csv': File exists\r\n"
     ]
    }
   ],
   "source": [
    "# copiando os arquivos do projeto .csv para pasta do projeto no HDFS\n",
    "\n",
    "!hdfs dfs -put /home/Dados_Covid/ /user/projeto/spark/\n"
   ]
  },
  {
   "cell_type": "code",
   "execution_count": 269,
   "metadata": {},
   "outputs": [
    {
     "name": "stdout",
     "output_type": "stream",
     "text": [
      "Found 4 items\r\n",
      "-rw-r--r--   2 root supergroup   62492959 2021-07-08 17:55 /user/projeto/spark/covid19/Dados_Covid/HIST_PAINEL_COVIDBR_2020_Parte1_06jul2021.csv\r\n",
      "-rw-r--r--   2 root supergroup   76520681 2021-07-08 17:55 /user/projeto/spark/covid19/Dados_Covid/HIST_PAINEL_COVIDBR_2020_Parte2_06jul2021.csv\r\n",
      "-rw-r--r--   2 root supergroup   91120916 2021-07-08 17:55 /user/projeto/spark/covid19/Dados_Covid/HIST_PAINEL_COVIDBR_2021_Parte1_06jul2021.csv\r\n",
      "-rw-r--r--   2 root supergroup    3046774 2021-07-08 17:55 /user/projeto/spark/covid19/Dados_Covid/HIST_PAINEL_COVIDBR_2021_Parte2_06jul2021.csv\r\n"
     ]
    }
   ],
   "source": [
    "# Validanado se os arquivos foram copiados\n",
    "\n",
    "!hdfs dfs -ls /user/projeto/spark/covid19/Dados_Covid/"
   ]
  },
  {
   "cell_type": "markdown",
   "metadata": {},
   "source": [
    "# Questão 2  - Pendente : Falta criar a partição"
   ]
  },
  {
   "cell_type": "code",
   "execution_count": null,
   "metadata": {},
   "outputs": [],
   "source": [
    "# Criado uma tabela particionada por municipio  Validar como realizr esse procedimento pois criamos sem particionamento\n",
    "# sqlContext.sql(\"create table dados_covid191 ( regiao  string ,estado string, coduf int ,codmun int  ,codRegiaoSaude     int  ,nomeRegiaoSaude  string  ,data    string    ,semanaEpi     int  ,populacaoTCU2019   int   ,casosAcumulado     int  ,casosNovos int ,obitosAcumulado  int   ,obitosNovos int  ,Recuperadosnovos int ,emAcompanhamentoNovos int  ,interior/metropolitana  string ) partitioned by (municipio string) row format delimited fields terminated by ',' stored as textfile location '/user/projeto/spark/covid19'\")"
   ]
  },
  {
   "cell_type": "code",
   "execution_count": 1,
   "metadata": {},
   "outputs": [],
   "source": [
    "# Lendo os os arquivos e criando um DataFrame com Headle utilizando o separador \";\" e a ser utilizado nos processos\n",
    "projeto_spark = spark.read.csv(\"/user/projeto/spark/covid19/Dados_Covid/\",mode=\"overwrite\", header=\"true\", sep=\";\")\n"
   ]
  },
  {
   "cell_type": "code",
   "execution_count": 2,
   "metadata": {
    "scrolled": true
   },
   "outputs": [
    {
     "data": {
      "text/html": [
       "<div>\n",
       "<style scoped>\n",
       "    .dataframe tbody tr th:only-of-type {\n",
       "        vertical-align: middle;\n",
       "    }\n",
       "\n",
       "    .dataframe tbody tr th {\n",
       "        vertical-align: top;\n",
       "    }\n",
       "\n",
       "    .dataframe thead th {\n",
       "        text-align: right;\n",
       "    }\n",
       "</style>\n",
       "<table border=\"1\" class=\"dataframe\">\n",
       "  <thead>\n",
       "    <tr style=\"text-align: right;\">\n",
       "      <th></th>\n",
       "      <th>regiao</th>\n",
       "      <th>estado</th>\n",
       "      <th>municipio</th>\n",
       "      <th>coduf</th>\n",
       "      <th>codmun</th>\n",
       "      <th>codRegiaoSaude</th>\n",
       "      <th>nomeRegiaoSaude</th>\n",
       "      <th>data</th>\n",
       "      <th>semanaEpi</th>\n",
       "      <th>populacaoTCU2019</th>\n",
       "      <th>casosAcumulado</th>\n",
       "      <th>casosNovos</th>\n",
       "      <th>obitosAcumulado</th>\n",
       "      <th>obitosNovos</th>\n",
       "      <th>Recuperadosnovos</th>\n",
       "      <th>emAcompanhamentoNovos</th>\n",
       "      <th>interior/metropolitana</th>\n",
       "    </tr>\n",
       "  </thead>\n",
       "  <tbody>\n",
       "    <tr>\n",
       "      <th>0</th>\n",
       "      <td>Brasil</td>\n",
       "      <td>None</td>\n",
       "      <td>None</td>\n",
       "      <td>76</td>\n",
       "      <td>None</td>\n",
       "      <td>None</td>\n",
       "      <td>None</td>\n",
       "      <td>2020-02-25</td>\n",
       "      <td>9</td>\n",
       "      <td>210147125</td>\n",
       "      <td>0</td>\n",
       "      <td>0</td>\n",
       "      <td>0</td>\n",
       "      <td>0</td>\n",
       "      <td>None</td>\n",
       "      <td>None</td>\n",
       "      <td>None</td>\n",
       "    </tr>\n",
       "    <tr>\n",
       "      <th>1</th>\n",
       "      <td>Brasil</td>\n",
       "      <td>None</td>\n",
       "      <td>None</td>\n",
       "      <td>76</td>\n",
       "      <td>None</td>\n",
       "      <td>None</td>\n",
       "      <td>None</td>\n",
       "      <td>2020-02-26</td>\n",
       "      <td>9</td>\n",
       "      <td>210147125</td>\n",
       "      <td>1</td>\n",
       "      <td>1</td>\n",
       "      <td>0</td>\n",
       "      <td>0</td>\n",
       "      <td>None</td>\n",
       "      <td>None</td>\n",
       "      <td>None</td>\n",
       "    </tr>\n",
       "    <tr>\n",
       "      <th>2</th>\n",
       "      <td>Brasil</td>\n",
       "      <td>None</td>\n",
       "      <td>None</td>\n",
       "      <td>76</td>\n",
       "      <td>None</td>\n",
       "      <td>None</td>\n",
       "      <td>None</td>\n",
       "      <td>2020-02-27</td>\n",
       "      <td>9</td>\n",
       "      <td>210147125</td>\n",
       "      <td>1</td>\n",
       "      <td>0</td>\n",
       "      <td>0</td>\n",
       "      <td>0</td>\n",
       "      <td>None</td>\n",
       "      <td>None</td>\n",
       "      <td>None</td>\n",
       "    </tr>\n",
       "    <tr>\n",
       "      <th>3</th>\n",
       "      <td>Brasil</td>\n",
       "      <td>None</td>\n",
       "      <td>None</td>\n",
       "      <td>76</td>\n",
       "      <td>None</td>\n",
       "      <td>None</td>\n",
       "      <td>None</td>\n",
       "      <td>2020-02-28</td>\n",
       "      <td>9</td>\n",
       "      <td>210147125</td>\n",
       "      <td>1</td>\n",
       "      <td>0</td>\n",
       "      <td>0</td>\n",
       "      <td>0</td>\n",
       "      <td>None</td>\n",
       "      <td>None</td>\n",
       "      <td>None</td>\n",
       "    </tr>\n",
       "    <tr>\n",
       "      <th>4</th>\n",
       "      <td>Brasil</td>\n",
       "      <td>None</td>\n",
       "      <td>None</td>\n",
       "      <td>76</td>\n",
       "      <td>None</td>\n",
       "      <td>None</td>\n",
       "      <td>None</td>\n",
       "      <td>2020-02-29</td>\n",
       "      <td>9</td>\n",
       "      <td>210147125</td>\n",
       "      <td>2</td>\n",
       "      <td>1</td>\n",
       "      <td>0</td>\n",
       "      <td>0</td>\n",
       "      <td>None</td>\n",
       "      <td>None</td>\n",
       "      <td>None</td>\n",
       "    </tr>\n",
       "    <tr>\n",
       "      <th>5</th>\n",
       "      <td>Brasil</td>\n",
       "      <td>None</td>\n",
       "      <td>None</td>\n",
       "      <td>76</td>\n",
       "      <td>None</td>\n",
       "      <td>None</td>\n",
       "      <td>None</td>\n",
       "      <td>2020-03-01</td>\n",
       "      <td>10</td>\n",
       "      <td>210147125</td>\n",
       "      <td>2</td>\n",
       "      <td>0</td>\n",
       "      <td>0</td>\n",
       "      <td>0</td>\n",
       "      <td>None</td>\n",
       "      <td>None</td>\n",
       "      <td>None</td>\n",
       "    </tr>\n",
       "    <tr>\n",
       "      <th>6</th>\n",
       "      <td>Brasil</td>\n",
       "      <td>None</td>\n",
       "      <td>None</td>\n",
       "      <td>76</td>\n",
       "      <td>None</td>\n",
       "      <td>None</td>\n",
       "      <td>None</td>\n",
       "      <td>2020-03-02</td>\n",
       "      <td>10</td>\n",
       "      <td>210147125</td>\n",
       "      <td>2</td>\n",
       "      <td>0</td>\n",
       "      <td>0</td>\n",
       "      <td>0</td>\n",
       "      <td>None</td>\n",
       "      <td>None</td>\n",
       "      <td>None</td>\n",
       "    </tr>\n",
       "    <tr>\n",
       "      <th>7</th>\n",
       "      <td>Brasil</td>\n",
       "      <td>None</td>\n",
       "      <td>None</td>\n",
       "      <td>76</td>\n",
       "      <td>None</td>\n",
       "      <td>None</td>\n",
       "      <td>None</td>\n",
       "      <td>2020-03-03</td>\n",
       "      <td>10</td>\n",
       "      <td>210147125</td>\n",
       "      <td>2</td>\n",
       "      <td>0</td>\n",
       "      <td>0</td>\n",
       "      <td>0</td>\n",
       "      <td>None</td>\n",
       "      <td>None</td>\n",
       "      <td>None</td>\n",
       "    </tr>\n",
       "    <tr>\n",
       "      <th>8</th>\n",
       "      <td>Brasil</td>\n",
       "      <td>None</td>\n",
       "      <td>None</td>\n",
       "      <td>76</td>\n",
       "      <td>None</td>\n",
       "      <td>None</td>\n",
       "      <td>None</td>\n",
       "      <td>2020-03-04</td>\n",
       "      <td>10</td>\n",
       "      <td>210147125</td>\n",
       "      <td>3</td>\n",
       "      <td>1</td>\n",
       "      <td>0</td>\n",
       "      <td>0</td>\n",
       "      <td>None</td>\n",
       "      <td>None</td>\n",
       "      <td>None</td>\n",
       "    </tr>\n",
       "    <tr>\n",
       "      <th>9</th>\n",
       "      <td>Brasil</td>\n",
       "      <td>None</td>\n",
       "      <td>None</td>\n",
       "      <td>76</td>\n",
       "      <td>None</td>\n",
       "      <td>None</td>\n",
       "      <td>None</td>\n",
       "      <td>2020-03-05</td>\n",
       "      <td>10</td>\n",
       "      <td>210147125</td>\n",
       "      <td>7</td>\n",
       "      <td>4</td>\n",
       "      <td>0</td>\n",
       "      <td>0</td>\n",
       "      <td>None</td>\n",
       "      <td>None</td>\n",
       "      <td>None</td>\n",
       "    </tr>\n",
       "  </tbody>\n",
       "</table>\n",
       "</div>"
      ],
      "text/plain": [
       "   regiao estado municipio coduf codmun codRegiaoSaude nomeRegiaoSaude  \\\n",
       "0  Brasil   None      None    76   None           None            None   \n",
       "1  Brasil   None      None    76   None           None            None   \n",
       "2  Brasil   None      None    76   None           None            None   \n",
       "3  Brasil   None      None    76   None           None            None   \n",
       "4  Brasil   None      None    76   None           None            None   \n",
       "5  Brasil   None      None    76   None           None            None   \n",
       "6  Brasil   None      None    76   None           None            None   \n",
       "7  Brasil   None      None    76   None           None            None   \n",
       "8  Brasil   None      None    76   None           None            None   \n",
       "9  Brasil   None      None    76   None           None            None   \n",
       "\n",
       "         data semanaEpi populacaoTCU2019 casosAcumulado casosNovos  \\\n",
       "0  2020-02-25         9        210147125              0          0   \n",
       "1  2020-02-26         9        210147125              1          1   \n",
       "2  2020-02-27         9        210147125              1          0   \n",
       "3  2020-02-28         9        210147125              1          0   \n",
       "4  2020-02-29         9        210147125              2          1   \n",
       "5  2020-03-01        10        210147125              2          0   \n",
       "6  2020-03-02        10        210147125              2          0   \n",
       "7  2020-03-03        10        210147125              2          0   \n",
       "8  2020-03-04        10        210147125              3          1   \n",
       "9  2020-03-05        10        210147125              7          4   \n",
       "\n",
       "  obitosAcumulado obitosNovos Recuperadosnovos emAcompanhamentoNovos  \\\n",
       "0               0           0             None                  None   \n",
       "1               0           0             None                  None   \n",
       "2               0           0             None                  None   \n",
       "3               0           0             None                  None   \n",
       "4               0           0             None                  None   \n",
       "5               0           0             None                  None   \n",
       "6               0           0             None                  None   \n",
       "7               0           0             None                  None   \n",
       "8               0           0             None                  None   \n",
       "9               0           0             None                  None   \n",
       "\n",
       "  interior/metropolitana  \n",
       "0                   None  \n",
       "1                   None  \n",
       "2                   None  \n",
       "3                   None  \n",
       "4                   None  \n",
       "5                   None  \n",
       "6                   None  \n",
       "7                   None  \n",
       "8                   None  \n",
       "9                   None  "
      ]
     },
     "execution_count": 2,
     "metadata": {},
     "output_type": "execute_result"
    }
   ],
   "source": [
    "# Visualizando o conteúdi do DataFrame\n",
    "\n",
    "projeto_spark.limit(10).toPandas()"
   ]
  },
  {
   "cell_type": "code",
   "execution_count": 3,
   "metadata": {},
   "outputs": [
    {
     "name": "stdout",
     "output_type": "stream",
     "text": [
      "root\n",
      " |-- regiao: string (nullable = true)\n",
      " |-- estado: string (nullable = true)\n",
      " |-- municipio: string (nullable = true)\n",
      " |-- coduf: string (nullable = true)\n",
      " |-- codmun: string (nullable = true)\n",
      " |-- codRegiaoSaude: string (nullable = true)\n",
      " |-- nomeRegiaoSaude: string (nullable = true)\n",
      " |-- data: string (nullable = true)\n",
      " |-- semanaEpi: string (nullable = true)\n",
      " |-- populacaoTCU2019: string (nullable = true)\n",
      " |-- casosAcumulado: string (nullable = true)\n",
      " |-- casosNovos: string (nullable = true)\n",
      " |-- obitosAcumulado: string (nullable = true)\n",
      " |-- obitosNovos: string (nullable = true)\n",
      " |-- Recuperadosnovos: string (nullable = true)\n",
      " |-- emAcompanhamentoNovos: string (nullable = true)\n",
      " |-- interior/metropolitana: string (nullable = true)\n",
      "\n"
     ]
    }
   ],
   "source": [
    "# Visualizando o Schema da tabela\n",
    "\n",
    "projeto_spark.printSchema()"
   ]
  },
  {
   "cell_type": "code",
   "execution_count": 158,
   "metadata": {},
   "outputs": [
    {
     "data": {
      "text/plain": [
       "DataFrame[]"
      ]
     },
     "execution_count": 158,
     "metadata": {},
     "output_type": "execute_result"
    }
   ],
   "source": [
    "# Executando comando de criação do DataBase com sqlContext.sql\n",
    "\n",
    "sqlContext.sql(\"CREATE DATABASE projeto_spark\") "
   ]
  },
  {
   "cell_type": "code",
   "execution_count": 4,
   "metadata": {},
   "outputs": [
    {
     "name": "stdout",
     "output_type": "stream",
     "text": [
      "+--------------+\n",
      "|  databaseName|\n",
      "+--------------+\n",
      "|       default|\n",
      "| projeto_spark|\n",
      "|projeto_spark1|\n",
      "+--------------+\n",
      "\n"
     ]
    }
   ],
   "source": [
    "# Visualizando os DataBase Existentes\n",
    "\n",
    "sqlContext.sql(\"show databases\").show()\n"
   ]
  },
  {
   "cell_type": "code",
   "execution_count": 11,
   "metadata": {},
   "outputs": [
    {
     "data": {
      "text/plain": [
       "DataFrame[]"
      ]
     },
     "execution_count": 11,
     "metadata": {},
     "output_type": "execute_result"
    }
   ],
   "source": [
    "# Executando comando para selecionar o novo BD a ser utilizado na criação da tabela do Projeto\n",
    "\n",
    "sqlContext.sql(\"use projeto_spark\")"
   ]
  },
  {
   "cell_type": "code",
   "execution_count": 6,
   "metadata": {},
   "outputs": [
    {
     "name": "stdout",
     "output_type": "stream",
     "text": [
      "+------+------+---------+-----+------+--------------+---------------+----------+---------+----------------+--------------+----------+---------------+-----------+----------------+---------------------+----------------------+\n",
      "|regiao|estado|municipio|coduf|codmun|codRegiaoSaude|nomeRegiaoSaude|      data|semanaEpi|populacaoTCU2019|casosAcumulado|casosNovos|obitosAcumulado|obitosNovos|Recuperadosnovos|emAcompanhamentoNovos|interior/metropolitana|\n",
      "+------+------+---------+-----+------+--------------+---------------+----------+---------+----------------+--------------+----------+---------------+-----------+----------------+---------------------+----------------------+\n",
      "|Brasil|  null|     null|   76|  null|          null|           null|2020-02-25|        9|       210147125|             0|         0|              0|          0|            null|                 null|                  null|\n",
      "|Brasil|  null|     null|   76|  null|          null|           null|2020-02-26|        9|       210147125|             1|         1|              0|          0|            null|                 null|                  null|\n",
      "|Brasil|  null|     null|   76|  null|          null|           null|2020-02-27|        9|       210147125|             1|         0|              0|          0|            null|                 null|                  null|\n",
      "|Brasil|  null|     null|   76|  null|          null|           null|2020-02-28|        9|       210147125|             1|         0|              0|          0|            null|                 null|                  null|\n",
      "|Brasil|  null|     null|   76|  null|          null|           null|2020-02-29|        9|       210147125|             2|         1|              0|          0|            null|                 null|                  null|\n",
      "+------+------+---------+-----+------+--------------+---------------+----------+---------+----------------+--------------+----------+---------------+-----------+----------------+---------------------+----------------------+\n",
      "only showing top 5 rows\n",
      "\n"
     ]
    }
   ],
   "source": [
    "projeto_spark.show(5)"
   ]
  },
  {
   "cell_type": "code",
   "execution_count": 7,
   "metadata": {},
   "outputs": [],
   "source": [
    "projeto_spark.write.saveAsTable(\"projeto_spark\")"
   ]
  },
  {
   "cell_type": "code",
   "execution_count": 13,
   "metadata": {},
   "outputs": [
    {
     "name": "stdout",
     "output_type": "stream",
     "text": [
      "+-------------+--------------------+-----------+\n",
      "|     database|           tableName|isTemporary|\n",
      "+-------------+--------------------+-----------+\n",
      "|projeto_spark|casorecuperados_v...|      false|\n",
      "|projeto_spark|       dados_covid19|      false|\n",
      "|projeto_spark|       projeto_spark|      false|\n",
      "|projeto_spark|     projeto_spark55|      false|\n",
      "+-------------+--------------------+-----------+\n",
      "\n"
     ]
    }
   ],
   "source": [
    "\n",
    "sqlContext.sql(\"show tables\").show()"
   ]
  },
  {
   "cell_type": "code",
   "execution_count": 15,
   "metadata": {},
   "outputs": [
    {
     "data": {
      "text/html": [
       "<div>\n",
       "<style scoped>\n",
       "    .dataframe tbody tr th:only-of-type {\n",
       "        vertical-align: middle;\n",
       "    }\n",
       "\n",
       "    .dataframe tbody tr th {\n",
       "        vertical-align: top;\n",
       "    }\n",
       "\n",
       "    .dataframe thead th {\n",
       "        text-align: right;\n",
       "    }\n",
       "</style>\n",
       "<table border=\"1\" class=\"dataframe\">\n",
       "  <thead>\n",
       "    <tr style=\"text-align: right;\">\n",
       "      <th></th>\n",
       "      <th>regiao</th>\n",
       "      <th>estado</th>\n",
       "      <th>municipio</th>\n",
       "      <th>coduf</th>\n",
       "      <th>codmun</th>\n",
       "      <th>codRegiaoSaude</th>\n",
       "      <th>nomeRegiaoSaude</th>\n",
       "      <th>data</th>\n",
       "      <th>semanaEpi</th>\n",
       "      <th>populacaoTCU2019</th>\n",
       "      <th>casosAcumulado</th>\n",
       "      <th>casosNovos</th>\n",
       "      <th>obitosAcumulado</th>\n",
       "      <th>obitosNovos</th>\n",
       "      <th>Recuperadosnovos</th>\n",
       "      <th>emAcompanhamentoNovos</th>\n",
       "      <th>interior/metropolitana</th>\n",
       "    </tr>\n",
       "  </thead>\n",
       "  <tbody>\n",
       "    <tr>\n",
       "      <th>0</th>\n",
       "      <td>Brasil</td>\n",
       "      <td>None</td>\n",
       "      <td>None</td>\n",
       "      <td>76</td>\n",
       "      <td>None</td>\n",
       "      <td>None</td>\n",
       "      <td>None</td>\n",
       "      <td>2021-01-01</td>\n",
       "      <td>53</td>\n",
       "      <td>210147125</td>\n",
       "      <td>7700578</td>\n",
       "      <td>24605</td>\n",
       "      <td>195411</td>\n",
       "      <td>462</td>\n",
       "      <td>6756284</td>\n",
       "      <td>748883</td>\n",
       "      <td>None</td>\n",
       "    </tr>\n",
       "    <tr>\n",
       "      <th>1</th>\n",
       "      <td>Brasil</td>\n",
       "      <td>None</td>\n",
       "      <td>None</td>\n",
       "      <td>76</td>\n",
       "      <td>None</td>\n",
       "      <td>None</td>\n",
       "      <td>None</td>\n",
       "      <td>2021-01-02</td>\n",
       "      <td>53</td>\n",
       "      <td>210147125</td>\n",
       "      <td>7716405</td>\n",
       "      <td>15827</td>\n",
       "      <td>195725</td>\n",
       "      <td>314</td>\n",
       "      <td>6769420</td>\n",
       "      <td>751260</td>\n",
       "      <td>None</td>\n",
       "    </tr>\n",
       "    <tr>\n",
       "      <th>2</th>\n",
       "      <td>Brasil</td>\n",
       "      <td>None</td>\n",
       "      <td>None</td>\n",
       "      <td>76</td>\n",
       "      <td>None</td>\n",
       "      <td>None</td>\n",
       "      <td>None</td>\n",
       "      <td>2021-01-03</td>\n",
       "      <td>1</td>\n",
       "      <td>210147125</td>\n",
       "      <td>7733746</td>\n",
       "      <td>17341</td>\n",
       "      <td>196018</td>\n",
       "      <td>293</td>\n",
       "      <td>6813008</td>\n",
       "      <td>724720</td>\n",
       "      <td>None</td>\n",
       "    </tr>\n",
       "    <tr>\n",
       "      <th>3</th>\n",
       "      <td>Brasil</td>\n",
       "      <td>None</td>\n",
       "      <td>None</td>\n",
       "      <td>76</td>\n",
       "      <td>None</td>\n",
       "      <td>None</td>\n",
       "      <td>None</td>\n",
       "      <td>2021-01-04</td>\n",
       "      <td>1</td>\n",
       "      <td>210147125</td>\n",
       "      <td>7753752</td>\n",
       "      <td>20006</td>\n",
       "      <td>196561</td>\n",
       "      <td>543</td>\n",
       "      <td>6875230</td>\n",
       "      <td>681961</td>\n",
       "      <td>None</td>\n",
       "    </tr>\n",
       "    <tr>\n",
       "      <th>4</th>\n",
       "      <td>Brasil</td>\n",
       "      <td>None</td>\n",
       "      <td>None</td>\n",
       "      <td>76</td>\n",
       "      <td>None</td>\n",
       "      <td>None</td>\n",
       "      <td>None</td>\n",
       "      <td>2021-01-05</td>\n",
       "      <td>1</td>\n",
       "      <td>210147125</td>\n",
       "      <td>7810400</td>\n",
       "      <td>56648</td>\n",
       "      <td>197732</td>\n",
       "      <td>1171</td>\n",
       "      <td>6963407</td>\n",
       "      <td>649261</td>\n",
       "      <td>None</td>\n",
       "    </tr>\n",
       "    <tr>\n",
       "      <th>5</th>\n",
       "      <td>Brasil</td>\n",
       "      <td>None</td>\n",
       "      <td>None</td>\n",
       "      <td>76</td>\n",
       "      <td>None</td>\n",
       "      <td>None</td>\n",
       "      <td>None</td>\n",
       "      <td>2021-01-06</td>\n",
       "      <td>1</td>\n",
       "      <td>210147125</td>\n",
       "      <td>7873830</td>\n",
       "      <td>63430</td>\n",
       "      <td>198974</td>\n",
       "      <td>1242</td>\n",
       "      <td>7036530</td>\n",
       "      <td>638326</td>\n",
       "      <td>None</td>\n",
       "    </tr>\n",
       "    <tr>\n",
       "      <th>6</th>\n",
       "      <td>Brasil</td>\n",
       "      <td>None</td>\n",
       "      <td>None</td>\n",
       "      <td>76</td>\n",
       "      <td>None</td>\n",
       "      <td>None</td>\n",
       "      <td>None</td>\n",
       "      <td>2021-01-07</td>\n",
       "      <td>1</td>\n",
       "      <td>210147125</td>\n",
       "      <td>7961673</td>\n",
       "      <td>87843</td>\n",
       "      <td>200498</td>\n",
       "      <td>1524</td>\n",
       "      <td>7096931</td>\n",
       "      <td>664244</td>\n",
       "      <td>None</td>\n",
       "    </tr>\n",
       "    <tr>\n",
       "      <th>7</th>\n",
       "      <td>Brasil</td>\n",
       "      <td>None</td>\n",
       "      <td>None</td>\n",
       "      <td>76</td>\n",
       "      <td>None</td>\n",
       "      <td>None</td>\n",
       "      <td>None</td>\n",
       "      <td>2021-01-08</td>\n",
       "      <td>1</td>\n",
       "      <td>210147125</td>\n",
       "      <td>8013708</td>\n",
       "      <td>52035</td>\n",
       "      <td>201460</td>\n",
       "      <td>962</td>\n",
       "      <td>7114474</td>\n",
       "      <td>697774</td>\n",
       "      <td>None</td>\n",
       "    </tr>\n",
       "    <tr>\n",
       "      <th>8</th>\n",
       "      <td>Brasil</td>\n",
       "      <td>None</td>\n",
       "      <td>None</td>\n",
       "      <td>76</td>\n",
       "      <td>None</td>\n",
       "      <td>None</td>\n",
       "      <td>None</td>\n",
       "      <td>2021-01-09</td>\n",
       "      <td>1</td>\n",
       "      <td>210147125</td>\n",
       "      <td>8075998</td>\n",
       "      <td>62290</td>\n",
       "      <td>202631</td>\n",
       "      <td>1171</td>\n",
       "      <td>7144011</td>\n",
       "      <td>729356</td>\n",
       "      <td>None</td>\n",
       "    </tr>\n",
       "    <tr>\n",
       "      <th>9</th>\n",
       "      <td>Brasil</td>\n",
       "      <td>None</td>\n",
       "      <td>None</td>\n",
       "      <td>76</td>\n",
       "      <td>None</td>\n",
       "      <td>None</td>\n",
       "      <td>None</td>\n",
       "      <td>2021-01-10</td>\n",
       "      <td>2</td>\n",
       "      <td>210147125</td>\n",
       "      <td>8105790</td>\n",
       "      <td>29792</td>\n",
       "      <td>203100</td>\n",
       "      <td>469</td>\n",
       "      <td>7167651</td>\n",
       "      <td>735039</td>\n",
       "      <td>None</td>\n",
       "    </tr>\n",
       "  </tbody>\n",
       "</table>\n",
       "</div>"
      ],
      "text/plain": [
       "   regiao estado municipio coduf codmun codRegiaoSaude nomeRegiaoSaude  \\\n",
       "0  Brasil   None      None    76   None           None            None   \n",
       "1  Brasil   None      None    76   None           None            None   \n",
       "2  Brasil   None      None    76   None           None            None   \n",
       "3  Brasil   None      None    76   None           None            None   \n",
       "4  Brasil   None      None    76   None           None            None   \n",
       "5  Brasil   None      None    76   None           None            None   \n",
       "6  Brasil   None      None    76   None           None            None   \n",
       "7  Brasil   None      None    76   None           None            None   \n",
       "8  Brasil   None      None    76   None           None            None   \n",
       "9  Brasil   None      None    76   None           None            None   \n",
       "\n",
       "         data semanaEpi populacaoTCU2019 casosAcumulado casosNovos  \\\n",
       "0  2021-01-01        53        210147125        7700578      24605   \n",
       "1  2021-01-02        53        210147125        7716405      15827   \n",
       "2  2021-01-03         1        210147125        7733746      17341   \n",
       "3  2021-01-04         1        210147125        7753752      20006   \n",
       "4  2021-01-05         1        210147125        7810400      56648   \n",
       "5  2021-01-06         1        210147125        7873830      63430   \n",
       "6  2021-01-07         1        210147125        7961673      87843   \n",
       "7  2021-01-08         1        210147125        8013708      52035   \n",
       "8  2021-01-09         1        210147125        8075998      62290   \n",
       "9  2021-01-10         2        210147125        8105790      29792   \n",
       "\n",
       "  obitosAcumulado obitosNovos Recuperadosnovos emAcompanhamentoNovos  \\\n",
       "0          195411         462          6756284                748883   \n",
       "1          195725         314          6769420                751260   \n",
       "2          196018         293          6813008                724720   \n",
       "3          196561         543          6875230                681961   \n",
       "4          197732        1171          6963407                649261   \n",
       "5          198974        1242          7036530                638326   \n",
       "6          200498        1524          7096931                664244   \n",
       "7          201460         962          7114474                697774   \n",
       "8          202631        1171          7144011                729356   \n",
       "9          203100         469          7167651                735039   \n",
       "\n",
       "  interior/metropolitana  \n",
       "0                   None  \n",
       "1                   None  \n",
       "2                   None  \n",
       "3                   None  \n",
       "4                   None  \n",
       "5                   None  \n",
       "6                   None  \n",
       "7                   None  \n",
       "8                   None  \n",
       "9                   None  "
      ]
     },
     "execution_count": 15,
     "metadata": {},
     "output_type": "execute_result"
    }
   ],
   "source": [
    "sqlContext.sql(\"select * from projeto_spark limit 10\").toPandas()"
   ]
  },
  {
   "cell_type": "markdown",
   "metadata": {},
   "source": [
    "# Questão 3"
   ]
  },
  {
   "cell_type": "code",
   "execution_count": 207,
   "metadata": {},
   "outputs": [],
   "source": [
    "# Primeira visualização\n",
    "# EXEC 3 Casos_Recuperados\n",
    "Casos_Recuperados_DF = sqlContext.sql(\"select format_number(sum(Recuperadosnovos),0) as Casos_Recuperados\\\n",
    "                      ,format_number(sum(emAcompanhamentoNovos),0) as Em_Acompanhamento\\\n",
    "                       from projeto_spark where data = '2021-07-06'\") "
   ]
  },
  {
   "cell_type": "code",
   "execution_count": 208,
   "metadata": {},
   "outputs": [
    {
     "name": "stdout",
     "output_type": "stream",
     "text": [
      "+-----------------+-----------------+\n",
      "|Casos_Recuperados|Em_Acompanhamento|\n",
      "+-----------------+-----------------+\n",
      "|       17,262,646|        1,065,477|\n",
      "+-----------------+-----------------+\n",
      "\n"
     ]
    }
   ],
   "source": [
    "Casos_Recuperados_DF.show(10)"
   ]
  },
  {
   "cell_type": "code",
   "execution_count": 218,
   "metadata": {},
   "outputs": [],
   "source": [
    "# EXEC 3 CASO CONFIRMADOS\n",
    "Casos_Confirmados_DF = spark.sql(\"select format_number((sum(Recuperadosnovos)+ sum(emAcompanhamentoNovos)+ (sum(obitosAcumulado))),0) as Acumulado,\\\n",
    " (select format_number(sum(casosNovos),0) from projeto_spark where data = '2021-07-05') as Casos_Novos,\\\n",
    "  (format_number((((sum(Recuperadosnovos) + sum(emAcompanhamentoNovos) + (sum(obitosAcumulado))) *100000))/(sum(populacaoTCU2019)), 0)) as Incidencia\\\n",
    "  from projeto_spark where data = '2021-07-06' \")"
   ]
  },
  {
   "cell_type": "code",
   "execution_count": 219,
   "metadata": {},
   "outputs": [
    {
     "data": {
      "text/html": [
       "<div>\n",
       "<style scoped>\n",
       "    .dataframe tbody tr th:only-of-type {\n",
       "        vertical-align: middle;\n",
       "    }\n",
       "\n",
       "    .dataframe tbody tr th {\n",
       "        vertical-align: top;\n",
       "    }\n",
       "\n",
       "    .dataframe thead th {\n",
       "        text-align: right;\n",
       "    }\n",
       "</style>\n",
       "<table border=\"1\" class=\"dataframe\">\n",
       "  <thead>\n",
       "    <tr style=\"text-align: right;\">\n",
       "      <th></th>\n",
       "      <th>Acumulado</th>\n",
       "      <th>Casos_Novos</th>\n",
       "      <th>Incidencia</th>\n",
       "    </tr>\n",
       "  </thead>\n",
       "  <tbody>\n",
       "    <tr>\n",
       "      <th>0</th>\n",
       "      <td>19,908,799</td>\n",
       "      <td>68,109</td>\n",
       "      <td>3,158</td>\n",
       "    </tr>\n",
       "  </tbody>\n",
       "</table>\n",
       "</div>"
      ],
      "text/plain": [
       "    Acumulado Casos_Novos Incidencia\n",
       "0  19,908,799      68,109      3,158"
      ]
     },
     "execution_count": 219,
     "metadata": {},
     "output_type": "execute_result"
    }
   ],
   "source": [
    "Casos_Confirmados_DF.limit(10).toPandas()"
   ]
  },
  {
   "cell_type": "code",
   "execution_count": 234,
   "metadata": {},
   "outputs": [],
   "source": [
    "# EXEC 3 ÓBITOS CONFIRMADOS\n",
    "Casos_Obtos_DF = spark.sql(\"select format_number(((sum(obitosAcumulado))),0) as Obitos_acumulados, \\\n",
    "(select format_number(sum(obitosNovos),0) from projeto_spark where data = '2021-07-05') as Obitos_novos, \\\n",
    "round(((sum(obitosAcumulado)) * 100) / (sum(Recuperadosnovos) + sum(emAcompanhamentoNovos) + (sum(obitosAcumulado))),2) as Letalidade, \\\n",
    "round(((((sum(obitosAcumulado))) * 100000)) / sum(populacaoTCU2019), 2) as Mortalidade \\\n",
    "from projeto_spark where data = '2021-07-06'\")"
   ]
  },
  {
   "cell_type": "code",
   "execution_count": 235,
   "metadata": {},
   "outputs": [
    {
     "data": {
      "text/html": [
       "<div>\n",
       "<style scoped>\n",
       "    .dataframe tbody tr th:only-of-type {\n",
       "        vertical-align: middle;\n",
       "    }\n",
       "\n",
       "    .dataframe tbody tr th {\n",
       "        vertical-align: top;\n",
       "    }\n",
       "\n",
       "    .dataframe thead th {\n",
       "        text-align: right;\n",
       "    }\n",
       "</style>\n",
       "<table border=\"1\" class=\"dataframe\">\n",
       "  <thead>\n",
       "    <tr style=\"text-align: right;\">\n",
       "      <th></th>\n",
       "      <th>Obitos_acumulados</th>\n",
       "      <th>Obitos_novos</th>\n",
       "      <th>Letalidade</th>\n",
       "      <th>Mortalidade</th>\n",
       "    </tr>\n",
       "  </thead>\n",
       "  <tbody>\n",
       "    <tr>\n",
       "      <th>0</th>\n",
       "      <td>1,580,676</td>\n",
       "      <td>2,085</td>\n",
       "      <td>7.94</td>\n",
       "      <td>250.73</td>\n",
       "    </tr>\n",
       "  </tbody>\n",
       "</table>\n",
       "</div>"
      ],
      "text/plain": [
       "  Obitos_acumulados Obitos_novos  Letalidade  Mortalidade\n",
       "0         1,580,676        2,085        7.94       250.73"
      ]
     },
     "execution_count": 235,
     "metadata": {},
     "output_type": "execute_result"
    }
   ],
   "source": [
    "Casos_Obtos_DF.limit(10).toPandas()"
   ]
  },
  {
   "cell_type": "markdown",
   "metadata": {},
   "source": [
    "# Questão 4"
   ]
  },
  {
   "cell_type": "code",
   "execution_count": 212,
   "metadata": {},
   "outputs": [],
   "source": [
    "# Exec 4  Criando a tabela no HIVE\n",
    "Casos_Recuperados_DF.write.saveAsTable(\"Casorecuperados_view1\")"
   ]
  },
  {
   "cell_type": "code",
   "execution_count": 213,
   "metadata": {},
   "outputs": [
    {
     "name": "stdout",
     "output_type": "stream",
     "text": [
      "+-----------------+-----------------+\n",
      "|Casos_Recuperados|Em_Acompanhamento|\n",
      "+-----------------+-----------------+\n",
      "|       17,262,646|        1,065,477|\n",
      "+-----------------+-----------------+\n",
      "\n"
     ]
    }
   ],
   "source": [
    "# Exec 4 Lendo dataFrame\n",
    "spark.read.table(\"Casorecuperados_view1\").show(10)"
   ]
  },
  {
   "cell_type": "code",
   "execution_count": 215,
   "metadata": {},
   "outputs": [
    {
     "name": "stdout",
     "output_type": "stream",
     "text": [
      "+-------------+--------------------+-----------+\n",
      "|     database|           tableName|isTemporary|\n",
      "+-------------+--------------------+-----------+\n",
      "|projeto_spark|casorecuperados_v...|      false|\n",
      "|projeto_spark|       dados_covid19|      false|\n",
      "|projeto_spark|       projeto_spark|      false|\n",
      "+-------------+--------------------+-----------+\n",
      "\n"
     ]
    }
   ],
   "source": [
    "# # Exec 4 Validando a criação da tabela no HIve\n",
    "sqlContext.sql(\"show tables\").show()"
   ]
  },
  {
   "cell_type": "markdown",
   "metadata": {},
   "source": [
    "# Questão 5"
   ]
  },
  {
   "cell_type": "code",
   "execution_count": 230,
   "metadata": {},
   "outputs": [],
   "source": [
    "# exec 5 criar uma pasta para armazenamento da visualização 2\n",
    "!hdfs dfs -mkdir -p /user/projeto/spark/exec5"
   ]
  },
  {
   "cell_type": "code",
   "execution_count": 231,
   "metadata": {},
   "outputs": [
    {
     "name": "stdout",
     "output_type": "stream",
     "text": [
      "Found 3 items\r\n",
      "drwxr-xr-x   - root supergroup          0 2021-07-08 17:56 /user/projeto/spark/Dados_Covid\r\n",
      "drwxr-xr-x   - root supergroup          0 2021-07-11 15:33 /user/projeto/spark/covid19\r\n",
      "drwxr-xr-x   - root supergroup          0 2021-07-13 00:27 /user/projeto/spark/exec5\r\n"
     ]
    }
   ],
   "source": [
    "# Validando a criação da pasta\n",
    "!hdfs dfs -ls /user/projeto/spark/"
   ]
  },
  {
   "cell_type": "code",
   "execution_count": 232,
   "metadata": {},
   "outputs": [],
   "source": [
    "# exec 5 Salvando em parquet com compressão snappy \n",
    "# Obs: Necessario importar a lib parquet-hadoop-bundle-1.6.0.jar para formato parquet\n",
    "# baixar via curl -O https://repo1.maven.org/maven2/com/twitter/parquet-hadoop-bundle/1.6.0/parquet-hadoop-bundle-1.6.0.jar\n",
    "# copiar via docker cp parquet-hadoop-bundle-1.6.0.jar spark:/opt/spark/jars\n",
    "\n",
    "Casos_Confirmados_DF.write.mode('overwrite').option(\"compression\", \"snappy\").parquet(\"/user/projeto/spark/exec5/\")\n"
   ]
  },
  {
   "cell_type": "markdown",
   "metadata": {},
   "source": [
    "# Questão 6 - Pendente"
   ]
  },
  {
   "cell_type": "code",
   "execution_count": 236,
   "metadata": {},
   "outputs": [],
   "source": [
    "# exec 6 criar uma pasta para armazenamento da visualização 3 no Kafka\n",
    "!hdfs dfs -mkdir -p /user/projeto/spark/exec6"
   ]
  },
  {
   "cell_type": "code",
   "execution_count": 237,
   "metadata": {},
   "outputs": [],
   "source": [
    "!hdfs dfs -ls /user/projeto/spark/exec6"
   ]
  },
  {
   "cell_type": "code",
   "execution_count": 249,
   "metadata": {},
   "outputs": [],
   "source": [
    "from pyspark import SparkContext\n",
    "from pyspark.streaming import StreamingContext\n",
    "from time import sleep\n"
   ]
  },
  {
   "cell_type": "code",
   "execution_count": 250,
   "metadata": {},
   "outputs": [],
   "source": [
    "conf = SparkConf().setMaster(\"local[*]\").setAppName(\"Dstream Pyphon\")\n",
    "sc = SparkContext.getOrCreate(conf)\n",
    "ssc = StreamingContext(sc,5)\n"
   ]
  },
  {
   "cell_type": "code",
   "execution_count": 255,
   "metadata": {},
   "outputs": [
    {
     "data": {
      "text/plain": [
       "pyspark.sql.dataframe.DataFrame"
      ]
     },
     "execution_count": 255,
     "metadata": {},
     "output_type": "execute_result"
    }
   ],
   "source": [
    "dstream = ssc.socketTextStream(\"kafka\",9998)\n",
    "type(Casos_Obtos_DF)"
   ]
  },
  {
   "cell_type": "code",
   "execution_count": null,
   "metadata": {},
   "outputs": [],
   "source": [
    "exec6_saida = Casos_Obtos_DF.writeStream.format(\"parquet\")\\\n",
    "              .option(\"path\",\"/user/projeto/spark/exec6/\")\\\n",
    "              .option(\"startingOffsets\", \"earliest\")\\\n",
    "              .start"
   ]
  },
  {
   "cell_type": "code",
   "execution_count": null,
   "metadata": {},
   "outputs": [],
   "source": [
    "exec6_saida.pprint()\n",
    "exec6_saida.saveAsTextFiles(\"hdfs://namenode/user/projeto/spark/exec6\")"
   ]
  },
  {
   "cell_type": "code",
   "execution_count": null,
   "metadata": {},
   "outputs": [],
   "source": [
    "## nc -lp 9998 Validar se será possivel utilizar o Net Cat no Pyspark"
   ]
  },
  {
   "cell_type": "code",
   "execution_count": 242,
   "metadata": {},
   "outputs": [
    {
     "name": "stdout",
     "output_type": "stream",
     "text": [
      "-------------------------------------------\n",
      "Time: 2021-07-13 00:52:15\n",
      "-------------------------------------------\n",
      "\n",
      "-------------------------------------------\n",
      "Time: 2021-07-13 00:52:20\n",
      "-------------------------------------------\n",
      "\n",
      "-------------------------------------------\n",
      "Time: 2021-07-13 00:52:25\n",
      "-------------------------------------------\n",
      "\n",
      "-------------------------------------------\n",
      "Time: 2021-07-13 00:52:30\n",
      "-------------------------------------------\n",
      "\n"
     ]
    }
   ],
   "source": [
    "ssc.start()\n",
    "sleep(20)\n",
    "ssc.stop()\n"
   ]
  },
  {
   "cell_type": "code",
   "execution_count": null,
   "metadata": {},
   "outputs": [],
   "source": [
    "exec6_saida.saveAsTextFiles(\"hdfs://namenode/user/projeto/spark/exec6\")"
   ]
  },
  {
   "cell_type": "code",
   "execution_count": null,
   "metadata": {},
   "outputs": [],
   "source": [
    "!hdfs dfs -ls /user/projeto/spark/covid19/Dados_Covid"
   ]
  },
  {
   "cell_type": "markdown",
   "metadata": {},
   "source": [
    "# Questão 7 -- Pendencia falta juntar os dados por região\n"
   ]
  },
  {
   "cell_type": "code",
   "execution_count": 20,
   "metadata": {},
   "outputs": [
    {
     "name": "stdout",
     "output_type": "stream",
     "text": [
      "Found 5 items\r\n",
      "-rw-r--r--   2 root supergroup          0 2021-07-09 00:35 /user/hive/warehouse/projeto_spark.db/projeto_spark/_SUCCESS\r\n",
      "-rw-r--r--   2 root supergroup    1397966 2021-07-09 00:35 /user/hive/warehouse/projeto_spark.db/projeto_spark/part-00000-6c1aa10f-10af-4bad-9487-ac6d4ac83d99-c000.snappy.parquet\r\n",
      "-rw-r--r--   2 root supergroup    2212384 2021-07-09 00:35 /user/hive/warehouse/projeto_spark.db/projeto_spark/part-00001-6c1aa10f-10af-4bad-9487-ac6d4ac83d99-c000.snappy.parquet\r\n",
      "-rw-r--r--   2 root supergroup    2762691 2021-07-09 00:35 /user/hive/warehouse/projeto_spark.db/projeto_spark/part-00002-6c1aa10f-10af-4bad-9487-ac6d4ac83d99-c000.snappy.parquet\r\n",
      "-rw-r--r--   2 root supergroup    2176695 2021-07-09 00:35 /user/hive/warehouse/projeto_spark.db/projeto_spark/part-00003-6c1aa10f-10af-4bad-9487-ac6d4ac83d99-c000.snappy.parquet\r\n"
     ]
    }
   ],
   "source": [
    "!hdfs dfs -ls /user/hive/warehouse/projeto_spark.db/projeto_spark"
   ]
  },
  {
   "cell_type": "code",
   "execution_count": 18,
   "metadata": {},
   "outputs": [],
   "source": [
    "exec7 = spark.read.parquet(\"/user/hive/warehouse/projeto_spark.db/projeto_spark/\")"
   ]
  },
  {
   "cell_type": "code",
   "execution_count": 19,
   "metadata": {},
   "outputs": [
    {
     "name": "stdout",
     "output_type": "stream",
     "text": [
      "+------+------+---------+-----+------+--------------+---------------+----------+---------+----------------+--------------+----------+---------------+-----------+----------------+---------------------+----------------------+\n",
      "|regiao|estado|municipio|coduf|codmun|codRegiaoSaude|nomeRegiaoSaude|      data|semanaEpi|populacaoTCU2019|casosAcumulado|casosNovos|obitosAcumulado|obitosNovos|Recuperadosnovos|emAcompanhamentoNovos|interior/metropolitana|\n",
      "+------+------+---------+-----+------+--------------+---------------+----------+---------+----------------+--------------+----------+---------------+-----------+----------------+---------------------+----------------------+\n",
      "|Brasil|  null|     null|   76|  null|          null|           null|2021-01-01|       53|       210147125|       7700578|     24605|         195411|        462|         6756284|               748883|                  null|\n",
      "|Brasil|  null|     null|   76|  null|          null|           null|2021-01-02|       53|       210147125|       7716405|     15827|         195725|        314|         6769420|               751260|                  null|\n",
      "|Brasil|  null|     null|   76|  null|          null|           null|2021-01-03|        1|       210147125|       7733746|     17341|         196018|        293|         6813008|               724720|                  null|\n",
      "|Brasil|  null|     null|   76|  null|          null|           null|2021-01-04|        1|       210147125|       7753752|     20006|         196561|        543|         6875230|               681961|                  null|\n",
      "|Brasil|  null|     null|   76|  null|          null|           null|2021-01-05|        1|       210147125|       7810400|     56648|         197732|       1171|         6963407|               649261|                  null|\n",
      "+------+------+---------+-----+------+--------------+---------------+----------+---------+----------------+--------------+----------+---------------+-----------+----------------+---------------------+----------------------+\n",
      "only showing top 5 rows\n",
      "\n"
     ]
    }
   ],
   "source": [
    "exec7.show(5)"
   ]
  },
  {
   "cell_type": "code",
   "execution_count": 53,
   "metadata": {},
   "outputs": [
    {
     "data": {
      "text/html": [
       "<div>\n",
       "<style scoped>\n",
       "    .dataframe tbody tr th:only-of-type {\n",
       "        vertical-align: middle;\n",
       "    }\n",
       "\n",
       "    .dataframe tbody tr th {\n",
       "        vertical-align: top;\n",
       "    }\n",
       "\n",
       "    .dataframe thead th {\n",
       "        text-align: right;\n",
       "    }\n",
       "</style>\n",
       "<table border=\"1\" class=\"dataframe\">\n",
       "  <thead>\n",
       "    <tr style=\"text-align: right;\">\n",
       "      <th></th>\n",
       "      <th>casos</th>\n",
       "      <th>Obitos</th>\n",
       "      <th>Incidencia_100mil_hab</th>\n",
       "      <th>Mortalidade_100mil_hab</th>\n",
       "      <th>Atualizacao</th>\n",
       "    </tr>\n",
       "  </thead>\n",
       "  <tbody>\n",
       "    <tr>\n",
       "      <th>0</th>\n",
       "      <td>19,908,799</td>\n",
       "      <td>1,580,676</td>\n",
       "      <td>3,158</td>\n",
       "      <td>250.73</td>\n",
       "      <td>2021-07-06</td>\n",
       "    </tr>\n",
       "  </tbody>\n",
       "</table>\n",
       "</div>"
      ],
      "text/plain": [
       "        casos     Obitos Incidencia_100mil_hab  Mortalidade_100mil_hab  \\\n",
       "0  19,908,799  1,580,676                 3,158                  250.73   \n",
       "\n",
       "  Atualizacao  \n",
       "0  2021-07-06  "
      ]
     },
     "execution_count": 53,
     "metadata": {},
     "output_type": "execute_result"
    }
   ],
   "source": [
    "spark.sql(\"select format_number((sum(Recuperadosnovos)+ sum(emAcompanhamentoNovos)+ (sum(obitosAcumulado))),0) as casos,\\\n",
    "          format_number(((sum(obitosAcumulado))),0) as Obitos, \\\n",
    "          (format_number((((sum(Recuperadosnovos) + sum(emAcompanhamentoNovos) + (sum(obitosAcumulado))) *100000))/(sum(populacaoTCU2019)), 0)) as Incidencia_100mil_hab, \\\n",
    "          round(((((sum(obitosAcumulado))) * 100000)) / sum(populacaoTCU2019), 2) as Mortalidade_100mil_hab, \\\n",
    "          max(data) as Atualizacao \\\n",
    "          from projeto_spark where data = '2021-07-06'\").toPandas()"
   ]
  },
  {
   "cell_type": "code",
   "execution_count": null,
   "metadata": {},
   "outputs": [],
   "source": []
  }
 ],
 "metadata": {
  "kernelspec": {
   "display_name": "PySpark",
   "language": "python",
   "name": "pyspark"
  },
  "language_info": {
   "codemirror_mode": {
    "name": "ipython",
    "version": 3
   },
   "file_extension": ".py",
   "mimetype": "text/x-python",
   "name": "python",
   "nbconvert_exporter": "python",
   "pygments_lexer": "ipython3",
   "version": "3.6.10"
  }
 },
 "nbformat": 4,
 "nbformat_minor": 2
}
